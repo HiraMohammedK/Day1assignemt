{
  "nbformat": 4,
  "nbformat_minor": 0,
  "metadata": {
    "colab": {
      "name": "day1assignment.ipynb",
      "provenance": []
    },
    "kernelspec": {
      "name": "python3",
      "display_name": "Python 3"
    },
    "language_info": {
      "name": "python"
    }
  },
  "cells": [
    {
      "cell_type": "markdown",
      "source": [
        "**1**.**Program** **to find the average of three numbers**"
      ],
      "metadata": {
        "id": "HbNGIhnyRDeN"
      }
    },
    {
      "cell_type": "code",
      "source": [
        "num1=int(input(\"Enter number 1 : \"))\n",
        "num2=int(input(\"Enter number 2 : \"))\n",
        "num3=int(input(\"Enter number 3 : \"))\n",
        "sum=num1+num2+num3\n",
        "avg=sum/3\n",
        "print(\"Average is \",avg)"
      ],
      "metadata": {
        "colab": {
          "base_uri": "https://localhost:8080/"
        },
        "id": "Lq5KeHdF8wjv",
        "outputId": "8dcd3fb2-d596-4113-e13f-c6ee9efc7613"
      },
      "execution_count": 1,
      "outputs": [
        {
          "output_type": "stream",
          "name": "stdout",
          "text": [
            "Enter number 1 : 1\n",
            "Enter number 2 : 2\n",
            "Enter number 3 : 3\n",
            "Average is  2.0\n"
          ]
        }
      ]
    },
    {
      "cell_type": "markdown",
      "source": [
        "**2.Program to find the sum and average of three numbers**"
      ],
      "metadata": {
        "id": "GAJALZpARhYN"
      }
    },
    {
      "cell_type": "code",
      "source": [
        "num1=int(input(\"Enter number 1: \"))\n",
        "num2=int(input(\"Enter number 2 : \"))\n",
        "num3=int(input(\"Enter number 3 : \"))\n",
        "sum=num1+num2+num3\n",
        "avg=sum/3\n",
        "print(\"Sum is \",sum,\"and average is\",avg)"
      ],
      "metadata": {
        "id": "8bWvM8l3-AKc",
        "colab": {
          "base_uri": "https://localhost:8080/"
        },
        "outputId": "29fa38ea-0d49-495d-9108-3a076870651e"
      },
      "execution_count": 2,
      "outputs": [
        {
          "output_type": "stream",
          "name": "stdout",
          "text": [
            "Enter number 1: 1\n",
            "Enter number 2 : 2\n",
            "Enter number 3 : 3\n",
            "Sum is  6 and average is 2.0\n"
          ]
        }
      ]
    },
    {
      "cell_type": "markdown",
      "source": [
        "**3.Program to convert the time entered into hours,minutes,seconds**"
      ],
      "metadata": {
        "id": "oEXw0HYhUHBp"
      }
    },
    {
      "cell_type": "code",
      "source": [
        "s=int(input(\"Enter the time in seconds : \"))\n",
        "hours=s//3600\n",
        "minutes=(s%3600)//60\n",
        "seconds=s%60\n",
        "print(\"Time is\",hours,\"hours\",minutes,\"minutes\",seconds,\"seconds\")\n",
        "\n"
      ],
      "metadata": {
        "id": "o4aOfY5q-8oo",
        "colab": {
          "base_uri": "https://localhost:8080/"
        },
        "outputId": "60175202-1a59-4ee3-cbb1-73b94af03775"
      },
      "execution_count": 9,
      "outputs": [
        {
          "output_type": "stream",
          "name": "stdout",
          "text": [
            "Enter the time in seconds : 5300\n",
            "Time is 1 hours 28 minutes 20 seconds\n"
          ]
        }
      ]
    },
    {
      "cell_type": "markdown",
      "source": [
        "**4.Program to find the area and perimeter of triangle**"
      ],
      "metadata": {
        "id": "vTs_PjQdRu-g"
      }
    },
    {
      "cell_type": "code",
      "source": [
        "a=int(input(\"Enter length of side 1: \"))\n",
        "b=int(input(\"Enter length of side 2 : \"))\n",
        "c=int(input(\"Enter length of side 3 : \"))\n",
        "p=a+b+c\n",
        "s=p/2\n",
        "area=(s*(s-a)*(s-b)*(s-c))** 0.5\n",
        "print('The area of the triangle is %0.2f' %area)\n",
        "print(\"Perimeter is\",p)"
      ],
      "metadata": {
        "colab": {
          "base_uri": "https://localhost:8080/"
        },
        "id": "rq29xJz-R1N7",
        "outputId": "1f249c28-32a3-4b26-ef9c-c250faadb8c6"
      },
      "execution_count": 8,
      "outputs": [
        {
          "output_type": "stream",
          "name": "stdout",
          "text": [
            "Enter length of side 1: 3\n",
            "Enter length of side 2 : 4\n",
            "Enter length of side 3 : 5\n",
            "The area of the triangle is 6.00\n",
            "Perimeter is 12\n"
          ]
        }
      ]
    },
    {
      "cell_type": "markdown",
      "source": [
        "**5.Program to find the area of a circle**"
      ],
      "metadata": {
        "id": "Ue1iRL0yUxXN"
      }
    },
    {
      "cell_type": "code",
      "source": [
        "r = float(input(\"Enter the radius of the circle : \"))\n",
        "area = 3.14 * r * r\n",
        "print('Area of the circle is %0.4f'%area)"
      ],
      "metadata": {
        "colab": {
          "base_uri": "https://localhost:8080/"
        },
        "id": "AlrVK8VnWN4a",
        "outputId": "fa27b6cc-7841-47f1-cb9d-4a5611be09ad"
      },
      "execution_count": 23,
      "outputs": [
        {
          "output_type": "stream",
          "name": "stdout",
          "text": [
            "Enter the radius of the circle : 1.1\n",
            "Area of the circle is 3.7994\n"
          ]
        }
      ]
    },
    {
      "cell_type": "markdown",
      "source": [
        "**6.Program to interchange two unequal numbers without a third variable**"
      ],
      "metadata": {
        "id": "dOzEhuY1bBn1"
      }
    },
    {
      "cell_type": "code",
      "source": [
        "x=int(input(\"Enter first number : \"))\n",
        "y=int(input(\"Enter second number : \"))\n",
        "print(\"Before swapping x = \", x ,\" y = \" , y)\n",
        "x=x+y\n",
        "y=x-y\n",
        "x=x-y\n",
        "print(\"After swapping x = \", x , \" y = \" , y)"
      ],
      "metadata": {
        "colab": {
          "base_uri": "https://localhost:8080/"
        },
        "id": "ZqIWZWqFbNLE",
        "outputId": "d010ef06-a9ec-475e-e896-c60222512a01"
      },
      "execution_count": 34,
      "outputs": [
        {
          "output_type": "stream",
          "name": "stdout",
          "text": [
            "Enter first number : 5\n",
            "Enter second number : 4\n",
            "Before swapping x =  5  y =  4\n",
            "After swapping x =  4  y =  5\n"
          ]
        }
      ]
    },
    {
      "cell_type": "markdown",
      "source": [
        "**7.Program to find the sum,difference,product.quotient,remainder of two unequal numbers**"
      ],
      "metadata": {
        "id": "YCNbIau0Xjav"
      }
    },
    {
      "cell_type": "code",
      "source": [
        "a=int(input(\"Enter first number : \"))\n",
        "b=int(input(\"Enter second number : \" ))\n",
        "sum=a+b\n",
        "diff=a-b\n",
        "pro=a*b\n",
        "quo=a//b\n",
        "rem=a%b\n",
        "print(\"Sum is \",sum,\", difference is \",diff,\", product is\",pro,\", quotient is\",quo,\"and remainder is \",rem)\n"
      ],
      "metadata": {
        "colab": {
          "base_uri": "https://localhost:8080/"
        },
        "id": "LnRCgg2HYGuW",
        "outputId": "31aaa191-d948-4510-a012-2f38a9d53e46"
      },
      "execution_count": 33,
      "outputs": [
        {
          "output_type": "stream",
          "name": "stdout",
          "text": [
            "Enter first number : 7\n",
            "Enter second number : 3\n",
            "Sum is  10 , difference is  4 , product is 21 , quotient is 2 and remainder is  1\n"
          ]
        }
      ]
    },
    {
      "cell_type": "markdown",
      "source": [
        "**8.Program to convert days to years, months , days**"
      ],
      "metadata": {
        "id": "IqdOam6pcG-h"
      }
    },
    {
      "cell_type": "code",
      "source": [
        "d = int(input(\"Enter the number of days : \"))\n",
        "years = d//365\n",
        "months=(d%365)//12\n",
        "days=(d%365)%30\n",
        "print(d,\"days = \" , years , \" years\", months , \" months \", days , \" days \")"
      ],
      "metadata": {
        "colab": {
          "base_uri": "https://localhost:8080/"
        },
        "id": "qBYRVG2ucPfM",
        "outputId": "0c7c0876-909e-42ad-94fd-4f1cb8e65778"
      },
      "execution_count": 35,
      "outputs": [
        {
          "output_type": "stream",
          "name": "stdout",
          "text": [
            "Enter the number of days : 366\n",
            "366 days =  1  years 0  months  1  days \n"
          ]
        }
      ]
    }
  ]
}