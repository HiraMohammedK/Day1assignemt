{
  "nbformat": 4,
  "nbformat_minor": 0,
  "metadata": {
    "colab": {
      "name": "iterativelooping.ipynb",
      "provenance": []
    },
    "kernelspec": {
      "name": "python3",
      "display_name": "Python 3"
    },
    "language_info": {
      "name": "python"
    }
  },
  "cells": [
    {
      "cell_type": "markdown",
      "source": [
        "1.Program to find the reverse of a number"
      ],
      "metadata": {
        "id": "00-Tm4_yDiBf"
      }
    },
    {
      "cell_type": "code",
      "source": [
        "N=int(input(\"Enter a number: \"))\n",
        "reverse=0\n",
        "num=N\n",
        "if N<0:\n",
        "  N=-N\n",
        "else:\n",
        "  N=N\n",
        "while N>0:\n",
        "  remainder=N%10\n",
        "  reverse=reverse*10+remainder\n",
        "  N=N//10\n",
        "if num<0:\n",
        "  reverse=(-reverse)\n",
        "else:\n",
        "  reverse=reverse\n",
        "print(\"Reverse is \",reverse)\n",
        "  "
      ],
      "metadata": {
        "id": "TpeWgQM9FKQj",
        "colab": {
          "base_uri": "https://localhost:8080/"
        },
        "outputId": "b50b047e-2ca1-43fd-945b-6413807caabf"
      },
      "execution_count": null,
      "outputs": [
        {
          "output_type": "stream",
          "name": "stdout",
          "text": [
            "Enter a number: -123\n",
            "Reverse is  -321\n"
          ]
        }
      ]
    },
    {
      "cell_type": "markdown",
      "source": [
        "2.Program to find the sum of first N natural numbers"
      ],
      "metadata": {
        "id": "nKkJS5jbHU41"
      }
    },
    {
      "cell_type": "code",
      "source": [
        "N=int(input(\"Enter a number: \"))\n",
        "i=1\n",
        "sum=0\n",
        "for i in range(1,N+1):\n",
        "  sum=sum+i\n",
        "  i=i+1\n",
        "print(\"Sum is \",sum)\n",
        "\n"
      ],
      "metadata": {
        "colab": {
          "base_uri": "https://localhost:8080/"
        },
        "id": "Xl8RSS0eIEJ9",
        "outputId": "62e64815-ff89-477a-e4db-143f1e2d011a"
      },
      "execution_count": null,
      "outputs": [
        {
          "output_type": "stream",
          "name": "stdout",
          "text": [
            "Enter a number: 20\n",
            "Sum is  210\n"
          ]
        }
      ]
    },
    {
      "cell_type": "markdown",
      "source": [
        "3.Program to print the sum of factors of a number"
      ],
      "metadata": {
        "id": "3hPTkti8IrcL"
      }
    },
    {
      "cell_type": "code",
      "source": [
        "n=int(input(\"Enter a number: \"))\n",
        "i=1\n",
        "sum=0\n",
        "while i<=n//2:\n",
        "  if n%i==0:\n",
        "    sum=sum+i\n",
        "    i=i+1\n",
        "  else:\n",
        "    i=i+1\n",
        "sum=sum+n\n",
        "print(\"Sum is \",sum)"
      ],
      "metadata": {
        "colab": {
          "base_uri": "https://localhost:8080/"
        },
        "id": "HJ4cIqF1IyK-",
        "outputId": "1e0c62e7-82f5-43e2-9b2e-72e25f8ed171"
      },
      "execution_count": null,
      "outputs": [
        {
          "output_type": "stream",
          "name": "stdout",
          "text": [
            "Enter a number: 17\n",
            "Sum is  18\n"
          ]
        }
      ]
    },
    {
      "cell_type": "markdown",
      "source": [
        "4.Program to print the N terms of an arithmetic sequence"
      ],
      "metadata": {
        "id": "S16HMzcrLNSs"
      }
    },
    {
      "cell_type": "code",
      "source": [
        "n=int(input(\"Enter number of terms: \"))\n",
        "a=int(input(\"Enter first term: \"))\n",
        "b=int(input(\"Enter second term: \"))\n",
        "d=b-a\n",
        "sum=0\n",
        "l=a+(n-1)*d\n",
        "while a<=l:\n",
        "  sum=sum+a\n",
        "  a=a+d\n",
        "print(\"Sum is\",sum)\n",
        "\n"
      ],
      "metadata": {
        "id": "kCQ1DRH5LcGY",
        "colab": {
          "base_uri": "https://localhost:8080/"
        },
        "outputId": "1bc28bcc-0f42-4bed-b840-76e598c0d485"
      },
      "execution_count": null,
      "outputs": [
        {
          "output_type": "stream",
          "name": "stdout",
          "text": [
            "Enter number of terms: 100\n",
            "Enter first term: 1\n",
            "Enter second term: 3\n",
            "Sum is 10000\n"
          ]
        }
      ]
    },
    {
      "cell_type": "markdown",
      "source": [
        "5.Program to print n number of terms of a fibonacci series"
      ],
      "metadata": {
        "id": "GKF7gk0yB619"
      }
    },
    {
      "cell_type": "code",
      "source": [
        "n=int(input(\"Enter number of terms: \"))\n",
        "a=0\n",
        "b=1\n",
        "count=2\n",
        "print(a,end=\" \")\n",
        "print(b,end=\" \")\n",
        "while count<n:\n",
        "  c=a+b\n",
        "  print(c,end=\" \")\n",
        "  a=b\n",
        "  b=c\n",
        "  count=count+1\n"
      ],
      "metadata": {
        "colab": {
          "base_uri": "https://localhost:8080/"
        },
        "id": "vNGD6B0FBj3C",
        "outputId": "6cb84275-0d0c-466c-b385-3433aacdd607"
      },
      "execution_count": null,
      "outputs": [
        {
          "output_type": "stream",
          "name": "stdout",
          "text": [
            "Enter number of terms: 20\n",
            "0 1 1 2 3 5 8 13 21 34 55 89 144 233 377 610 987 1597 2584 4181 "
          ]
        }
      ]
    },
    {
      "cell_type": "markdown",
      "source": [
        "6.To check whether a number is palindrome or not"
      ],
      "metadata": {
        "id": "Bk-wB9uiDK4F"
      }
    },
    {
      "cell_type": "code",
      "source": [
        "n=int(input(\"Enter a number\"))\n",
        "reverse=0\n",
        "num=n\n",
        "if n<0:\n",
        "  n=-n\n",
        "else:\n",
        "  n=n\n",
        "while n>0:\n",
        "  remainder=n%10\n",
        "  reverse=reverse*10+remainder\n",
        "  n=n//10\n",
        "if num<0:\n",
        "  reverse=(-reverse)\n",
        "else:\n",
        "  reverse=reverse\n",
        "print(\"Reverse is \",reverse)\n",
        "if reverse==num:\n",
        "  print(\"Palindrome number\")\n",
        "else:\n",
        "  print(\"Not a palindrome number\")\n",
        "\n",
        "\n",
        "\n"
      ],
      "metadata": {
        "colab": {
          "base_uri": "https://localhost:8080/"
        },
        "id": "1dU01dylDSMu",
        "outputId": "6a18a4dc-16c1-45c9-8a9d-cb2223b5529f"
      },
      "execution_count": null,
      "outputs": [
        {
          "output_type": "stream",
          "name": "stdout",
          "text": [
            "Enter a number-121\n",
            "Reverse is  -121\n",
            "Palindrome number\n"
          ]
        }
      ]
    },
    {
      "cell_type": "markdown",
      "source": [
        "7.Program to check whether a number is armstrong or not"
      ],
      "metadata": {
        "id": "rlGotiiLG_IJ"
      }
    },
    {
      "cell_type": "code",
      "source": [
        "n=int(input(\"Enter a number: \"))\n",
        "sum=0\n",
        "num=n\n",
        "order=len(str(num))\n",
        "while n>0:\n",
        "  d=n%10\n",
        "  n=n//10\n",
        "  sum=sum+d**order\n",
        "if sum==num:\n",
        "  print(\"Armstrong number\")\n",
        "else:\n",
        "  print(\"Not an armstrong number\")\n"
      ],
      "metadata": {
        "colab": {
          "base_uri": "https://localhost:8080/"
        },
        "id": "6aj5QEyrHIdR",
        "outputId": "c3f60c7b-4a68-43ac-f6e2-4e844dc04bbf"
      },
      "execution_count": null,
      "outputs": [
        {
          "output_type": "stream",
          "name": "stdout",
          "text": [
            "Enter a number: 371\n",
            "Armstrong number\n"
          ]
        }
      ]
    },
    {
      "cell_type": "markdown",
      "source": [
        "8.Program to evaluate x^n\n"
      ],
      "metadata": {
        "id": "S3PpXyfdLbAD"
      }
    },
    {
      "cell_type": "code",
      "source": [
        "x=int(input(\"Enter base number: \"))\n",
        "n=int(input(\"Enter exponent: \"))\n",
        "result=1\n",
        "c=0\n",
        "if n>0:\n",
        "  while c<n:\n",
        "    result=result*x\n",
        "    c=c+1\n",
        "elif n==0:\n",
        "  result=result\n",
        "else:\n",
        "  while (c<-n):\n",
        "    result=result*(1/x)\n",
        "print(x,\"^\",n, \" is \",result)\n"
      ],
      "metadata": {
        "colab": {
          "base_uri": "https://localhost:8080/"
        },
        "id": "m5lIc_6vLpu0",
        "outputId": "af48e899-d064-42dc-81e8-73da4de8d6f1"
      },
      "execution_count": null,
      "outputs": [
        {
          "output_type": "stream",
          "name": "stdout",
          "text": [
            "Enter base number: 5\n",
            "Enter exponent: 4\n",
            "5 ^ 4  is  625\n"
          ]
        }
      ]
    },
    {
      "cell_type": "markdown",
      "source": [
        "9.Program to print first n odd numbers"
      ],
      "metadata": {
        "id": "4ro4SN2xOUQk"
      }
    },
    {
      "cell_type": "code",
      "source": [
        "n=int(input(\"Enter number of odd numbers: \"))\n",
        "i=1\n",
        "c=0\n",
        "while c<n:\n",
        "  print(i,end=\" \")\n",
        "  i=i+2\n",
        "  c=c+1\n"
      ],
      "metadata": {
        "id": "8IrHGcAmOegh",
        "colab": {
          "base_uri": "https://localhost:8080/"
        },
        "outputId": "e9c4c6cb-a32d-4554-8fd9-8cf478a27342"
      },
      "execution_count": null,
      "outputs": [
        {
          "output_type": "stream",
          "name": "stdout",
          "text": [
            "Enter number of odd numbers: 20\n",
            "1 3 5 7 9 11 13 15 17 19 21 23 25 27 29 31 33 35 37 39 "
          ]
        }
      ]
    },
    {
      "cell_type": "markdown",
      "source": [
        "10.Program to print the GCD of two numbers"
      ],
      "metadata": {
        "id": "RLTLOnoHQEHp"
      }
    },
    {
      "cell_type": "code",
      "source": [
        "a=int(input(\"Enter the first number: \"))\n",
        "b=int(input(\"Enter the second number: \"))\n",
        "i=1\n",
        "while i<=a or i<=b:\n",
        "  if a%i==0 and b%i==0:\n",
        "    gcd=i\n",
        "    i=i+1\n",
        "  else:\n",
        "    i=i+1\n",
        "print(\"Gcd is: \",gcd)\n",
        "  \n",
        "     "
      ],
      "metadata": {
        "colab": {
          "base_uri": "https://localhost:8080/"
        },
        "id": "XYYlMC07D1-M",
        "outputId": "24b13422-e0b7-4fff-ecae-e797586b4952"
      },
      "execution_count": null,
      "outputs": [
        {
          "output_type": "stream",
          "name": "stdout",
          "text": [
            "Enter the first number: 50\n",
            "Enter the second number: 35\n",
            "Gcd is:  5\n"
          ]
        }
      ]
    },
    {
      "cell_type": "markdown",
      "source": [
        "11.Program to print factorial of a given number"
      ],
      "metadata": {
        "id": "tzb0SvaqG9O-"
      }
    },
    {
      "cell_type": "code",
      "source": [
        "n=int(input(\"Enter the number: \"))\n",
        "for i in range(1,n,1):\n",
        "  n=n*i\n",
        "print(\"Factorial is \",n)\n"
      ],
      "metadata": {
        "colab": {
          "base_uri": "https://localhost:8080/"
        },
        "id": "nZOhlHq4HFL2",
        "outputId": "1cffb9b9-a5fd-4425-a9db-35b41ea39df1"
      },
      "execution_count": null,
      "outputs": [
        {
          "output_type": "stream",
          "name": "stdout",
          "text": [
            "Enter the number: 5\n",
            "Factorial is  120\n"
          ]
        }
      ]
    },
    {
      "cell_type": "markdown",
      "source": [
        "12.Program to print squares of natural numbers between two numbers"
      ],
      "metadata": {
        "id": "UEQNLfHAHt3r"
      }
    },
    {
      "cell_type": "code",
      "source": [
        "a=int(input(\"Enter lower limit: \"))\n",
        "b=int(input(\"Enter upper limit: \"))\n",
        "for i in range(a+1,b,1):\n",
        "  print(i*i,end=\" \")\n",
        "  i=i+1\n",
        "\n",
        "  "
      ],
      "metadata": {
        "id": "v_Sm0xZzIERg",
        "colab": {
          "base_uri": "https://localhost:8080/"
        },
        "outputId": "c54ff88d-2927-4753-e1ab-4f7c3c97d36d"
      },
      "execution_count": null,
      "outputs": [
        {
          "output_type": "stream",
          "name": "stdout",
          "text": [
            "Enter lower limit: 0\n",
            "Enter upper limit: 20\n",
            "1 4 9 16 25 36 49 64 81 100 121 144 169 196 225 256 289 324 361 "
          ]
        }
      ]
    },
    {
      "cell_type": "markdown",
      "source": [
        "13.Program to find the sum of the given series, up to n terms.  S = 1 - 4 + 9 - 16 + ....\n"
      ],
      "metadata": {
        "id": "zn2NNsVHymWr"
      }
    },
    {
      "cell_type": "code",
      "source": [
        "n=int(input(\"Enter number of terms: \"))\n",
        "sum=0\n",
        "for i in range(1,n+1):\n",
        "  if i%2==0:\n",
        "    x=-(i*i)\n",
        "    sum=sum+x\n",
        "    i=i+1\n",
        "  else:\n",
        "    x=i*i\n",
        "    sum=sum+x\n",
        "    i=i+1\n",
        "print(\"Sum is \",sum)\n",
        "\n",
        "\n"
      ],
      "metadata": {
        "colab": {
          "base_uri": "https://localhost:8080/"
        },
        "id": "zO9we0AYy-tO",
        "outputId": "b514cf53-450a-4c96-a2e5-5ca660270235"
      },
      "execution_count": null,
      "outputs": [
        {
          "output_type": "stream",
          "name": "stdout",
          "text": [
            "Enter number of terms: 10\n",
            "Sum is  -55\n"
          ]
        }
      ]
    },
    {
      "cell_type": "markdown",
      "source": [
        "14.Program to check whether a number is automorphic or not"
      ],
      "metadata": {
        "id": "df29L_1o04cp"
      }
    },
    {
      "cell_type": "code",
      "source": [
        "n=int(input(\"Enter a number: \"))\n",
        "num=n\n",
        "sqr=num*num\n",
        "count=0\n",
        "while n>0:\n",
        "  r=n%10\n",
        "  n=n//10\n",
        "  count=count+1\n",
        "sqr=sqr%(10**count)\n",
        "if sqr==num:\n",
        "  print(\"Automorphic number\")\n",
        "else:\n",
        "  print(\"Not an automorphic number\")"
      ],
      "metadata": {
        "colab": {
          "base_uri": "https://localhost:8080/"
        },
        "id": "t8fG8eUw1EEJ",
        "outputId": "620cc139-a538-4366-b165-1d669340242a"
      },
      "execution_count": null,
      "outputs": [
        {
          "output_type": "stream",
          "name": "stdout",
          "text": [
            "Enter a number: 376\n",
            "Automorphic number\n"
          ]
        }
      ]
    },
    {
      "cell_type": "markdown",
      "source": [
        "15.Program to read a binary number and print its decimal equivalent"
      ],
      "metadata": {
        "id": "uf2aP4TF4AM-"
      }
    },
    {
      "cell_type": "code",
      "source": [
        "n=int(input(\"Enter a binary number: \"))\n",
        "num=n\n",
        "d=0\n",
        "i=0\n",
        "while n>0:\n",
        "  r=n%10\n",
        "  n=n//10\n",
        "  d=d+r*(2**i)\n",
        "  i=i+1\n",
        "print(\"Decimal equivalent is \",d)"
      ],
      "metadata": {
        "colab": {
          "base_uri": "https://localhost:8080/"
        },
        "id": "oznbO9Be4H4S",
        "outputId": "379f98d2-32bf-4565-89a9-5a1f7f141389"
      },
      "execution_count": null,
      "outputs": [
        {
          "output_type": "stream",
          "name": "stdout",
          "text": [
            "Enter a binary number: 11001010\n",
            "Decimal equivalent is  202\n"
          ]
        }
      ]
    }
  ]
}