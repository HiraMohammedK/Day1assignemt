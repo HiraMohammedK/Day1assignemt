{
  "nbformat": 4,
  "nbformat_minor": 0,
  "metadata": {
    "colab": {
      "name": "Decisionproblems.ipynb",
      "provenance": [],
      "toc_visible": true
    },
    "kernelspec": {
      "name": "python3",
      "display_name": "Python 3"
    },
    "language_info": {
      "name": "python"
    }
  },
  "cells": [
    {
      "cell_type": "markdown",
      "source": [
        "#Q1:To find the biggest of two numbers"
      ],
      "metadata": {
        "id": "Uwnzd9ErNMk4"
      }
    },
    {
      "cell_type": "code",
      "source": [
        "a = int(input(\"Enter first number : \"))\n",
        "b= int(input(\"Enter second number : \"))\n",
        "if(a>b):\n",
        "  print(a,\" is greater\")\n",
        "else:\n",
        "  print(b,\" is greater\" )"
      ],
      "metadata": {
        "colab": {
          "base_uri": "https://localhost:8080/"
        },
        "id": "cATa6yGoN3y1",
        "outputId": "06fbef1e-809b-4267-fd5c-b239037944e5"
      },
      "execution_count": 23,
      "outputs": [
        {
          "output_type": "stream",
          "name": "stdout",
          "text": [
            "Enter first number : -6\n",
            "Enter second number : 3\n",
            "3  is greater\n"
          ]
        }
      ]
    },
    {
      "cell_type": "markdown",
      "source": [
        "<style type=\"text/css\">\n",
        ".tg  {border-collapse:collapse;border-spacing:0;}\n",
        ".tg td{border-color:black;border-style:solid;border-width:1px;font-family:Arial, sans-serif;font-size:14px;\n",
        "  overflow:hidden;padding:10px 5px;word-break:normal;}\n",
        ".tg th{border-color:black;border-style:solid;border-width:1px;font-family:Arial, sans-serif;font-size:14px;\n",
        "  font-weight:normal;overflow:hidden;padding:10px 5px;word-break:normal;}\n",
        ".tg .tg-0pky{border-color:inherit;text-align:left;vertical-align:top}\n",
        "</style>\n",
        "<table class=\"tg\">\n",
        "<thead>\n",
        "  <tr>\n",
        "    <th class=\"tg-0pky\">Test Case No.</th>\n",
        "    <th class=\"tg-0pky\">Test Description</th>\n",
        "    <th class=\"tg-0pky\">Input</th>\n",
        "    <th class=\"tg-0pky\">Expected Output</th>\n",
        "    <th class=\"tg-0pky\">Actual Output</th>\n",
        "    <th class=\"tg-0pky\">Result</th>\n",
        "  </tr>\n",
        "</thead>\n",
        "<tbody>\n",
        "  <tr>\n",
        "    <td class=\"tg-0pky\">1</td>\n",
        "    <td class=\"tg-0pky\">Check for two positive numbers</td>\n",
        "    <td class=\"tg-0pky\">4,10</td>\n",
        "    <td class=\"tg-0pky\">10 is greater</td>\n",
        "    <td class=\"tg-0pky\">10 is greater</td>\n",
        "    <td class=\"tg-0pky\">Pass</td>\n",
        "  </tr>\n",
        "  <tr>\n",
        "    <td class=\"tg-0pky\">2</td>\n",
        "    <td class=\"tg-0pky\">Check for two negative numbers</td>\n",
        "    <td class=\"tg-0pky\">-2,-4</td>\n",
        "    <td class=\"tg-0pky\">-2 is greater</td>\n",
        "    <td class=\"tg-0pky\">-2 is greater</td>\n",
        "    <td class=\"tg-0pky\">Pass</td>\n",
        "  </tr>\n",
        "  <tr>\n",
        "    <td class=\"tg-0pky\">3</td>\n",
        "    <td class=\"tg-0pky\">Check for one positive and negative number </td>\n",
        "    <td class=\"tg-0pky\">-6,3</td>\n",
        "    <td class=\"tg-0pky\">3 is greater</td>\n",
        "    <td class=\"tg-0pky\">3 is greater</td>\n",
        "    <td class=\"tg-0pky\">Pass</td>\n",
        "  </tr>\n",
        "  <tr>\n",
        "    <td class=\"tg-0pky\">4</td>\n",
        "    <td class=\"tg-0pky\">Check for a character</td>\n",
        "    <td class=\"tg-0pky\">1,x</td>\n",
        "    <td class=\"tg-0pky\">Error</td>\n",
        "    <td class=\"tg-0pky\">Error</td>\n",
        "    <td class=\"tg-0pky\">Pass</td>\n",
        "  </tr>\n",
        "</tbody>\n",
        "</table>"
      ],
      "metadata": {
        "id": "mm_P5lWFUnYq"
      }
    },
    {
      "cell_type": "markdown",
      "source": [
        "#Q2:To find smallest of three numbers"
      ],
      "metadata": {
        "id": "jXKayDexOk7B"
      }
    },
    {
      "cell_type": "code",
      "source": [
        "a=int(input(\"Enter first number: \"))\n",
        "b=int(input(\"Enter second number: \"))\n",
        "c=int(input(\"Enter third number: \"))\n",
        "if(a>b and c>b):\n",
        "  print(b,\" is the smallest\")\n",
        "elif(b>a and c>a):\n",
        "  print(a,\" is the smallest\")\n",
        "else:\n",
        "  print(c,\" is the smallest\")\n",
        "\n"
      ],
      "metadata": {
        "colab": {
          "base_uri": "https://localhost:8080/"
        },
        "id": "e36WM-IiOsd9",
        "outputId": "613a8a18-1382-4709-a4e0-83ed5227b7d3"
      },
      "execution_count": 10,
      "outputs": [
        {
          "output_type": "stream",
          "name": "stdout",
          "text": [
            "Enter first number: -4\n",
            "Enter second number: 5\n",
            "Enter third number: -6\n",
            "-6  is the smallest\n"
          ]
        }
      ]
    },
    {
      "cell_type": "markdown",
      "source": [
        "<style type=\"text/css\">\n",
        ".tg  {border-collapse:collapse;border-spacing:0;}\n",
        ".tg td{border-color:black;border-style:solid;border-width:1px;font-family:Arial, sans-serif;font-size:14px;\n",
        "  overflow:hidden;padding:10px 5px;word-break:normal;}\n",
        ".tg th{border-color:black;border-style:solid;border-width:1px;font-family:Arial, sans-serif;font-size:14px;\n",
        "  font-weight:normal;overflow:hidden;padding:10px 5px;word-break:normal;}\n",
        ".tg .tg-0pky{border-color:inherit;text-align:left;vertical-align:top}\n",
        ".tg .tg-0lax{text-align:left;vertical-align:top}\n",
        "</style>\n",
        "<table class=\"tg\">\n",
        "<thead>\n",
        "  <tr>\n",
        "    <th class=\"tg-0pky\">Test Case No.</th>\n",
        "    <th class=\"tg-0pky\">Test Description</th>\n",
        "    <th class=\"tg-0pky\">Input</th>\n",
        "    <th class=\"tg-0pky\">Expected Output</th>\n",
        "    <th class=\"tg-0pky\">Actual Output</th>\n",
        "    <th class=\"tg-0pky\">Result</th>\n",
        "  </tr>\n",
        "</thead>\n",
        "<tbody>\n",
        "  <tr>\n",
        "    <td class=\"tg-0pky\">1</td>\n",
        "    <td class=\"tg-0pky\">Check for three positive numbers</td>\n",
        "    <td class=\"tg-0pky\">5,9,4</td>\n",
        "    <td class=\"tg-0pky\">4</td>\n",
        "    <td class=\"tg-0pky\">4</td>\n",
        "    <td class=\"tg-0pky\">Pass</td>\n",
        "  </tr>\n",
        "  <tr>\n",
        "    <td class=\"tg-0pky\">2</td>\n",
        "    <td class=\"tg-0pky\">Check for three negative numbers</td>\n",
        "    <td class=\"tg-0pky\">-5,-4,-6</td>\n",
        "    <td class=\"tg-0pky\">-6</td>\n",
        "    <td class=\"tg-0pky\">-6</td>\n",
        "    <td class=\"tg-0pky\">Pass</td>\n",
        "  </tr>\n",
        "  <tr>\n",
        "    <td class=\"tg-0lax\">3</td>\n",
        "    <td class=\"tg-0lax\">Check for two positive and one negative</td>\n",
        "    <td class=\"tg-0lax\">-1,4,5</td>\n",
        "    <td class=\"tg-0lax\">-1</td>\n",
        "    <td class=\"tg-0lax\">-1</td>\n",
        "    <td class=\"tg-0lax\">Pass</td>\n",
        "  </tr>\n",
        "  <tr>\n",
        "    <td class=\"tg-0lax\">4</td>\n",
        "    <td class=\"tg-0lax\">Check for a character</td>\n",
        "    <td class=\"tg-0lax\">x,y</td>\n",
        "    <td class=\"tg-0lax\">Error</td>\n",
        "    <td class=\"tg-0lax\">Error</td>\n",
        "    <td class=\"tg-0lax\">Pass</td>\n",
        "  </tr>\n",
        "</tbody>\n",
        "</table>"
      ],
      "metadata": {
        "id": "vzbLbP0IHf2w"
      }
    },
    {
      "cell_type": "markdown",
      "source": [
        "#Q3:To find distance between two points on a number line"
      ],
      "metadata": {
        "id": "zIhp0mJ6P3n1"
      }
    },
    {
      "cell_type": "code",
      "source": [
        "A=int(input(\"Enter first point: \"))\n",
        "B=int(input(\"Enter second point: \"))\n",
        "if(A>B):\n",
        "  print(\"Distance is \", A-B)\n",
        "else:\n",
        "  print(\"Distance is \", B-A)\n"
      ],
      "metadata": {
        "colab": {
          "base_uri": "https://localhost:8080/"
        },
        "id": "8qD0dBFOQFff",
        "outputId": "db993ad9-13a2-4167-f4a0-5e10b64c668a"
      },
      "execution_count": 8,
      "outputs": [
        {
          "output_type": "stream",
          "name": "stdout",
          "text": [
            "Enter first point: -4\n",
            "Enter second point: 5\n",
            "Distance is  9\n"
          ]
        }
      ]
    },
    {
      "cell_type": "markdown",
      "source": [
        "<style type=\"text/css\">\n",
        ".tg  {border-collapse:collapse;border-spacing:0;}\n",
        ".tg td{border-color:black;border-style:solid;border-width:1px;font-family:Arial, sans-serif;font-size:14px;\n",
        "  overflow:hidden;padding:10px 5px;word-break:normal;}\n",
        ".tg th{border-color:black;border-style:solid;border-width:1px;font-family:Arial, sans-serif;font-size:14px;\n",
        "  font-weight:normal;overflow:hidden;padding:10px 5px;word-break:normal;}\n",
        ".tg .tg-0pky{border-color:inherit;text-align:left;vertical-align:top}\n",
        ".tg .tg-0lax{text-align:left;vertical-align:top}\n",
        "</style>\n",
        "<table class=\"tg\">\n",
        "<thead>\n",
        "  <tr>\n",
        "    <th class=\"tg-0pky\">Test Case No.</th>\n",
        "    <th class=\"tg-0pky\">Test Description</th>\n",
        "    <th class=\"tg-0pky\">Input</th>\n",
        "    <th class=\"tg-0pky\">Expected Output</th>\n",
        "    <th class=\"tg-0pky\">Actual Output</th>\n",
        "    <th class=\"tg-0pky\">Result</th>\n",
        "  </tr>\n",
        "</thead>\n",
        "<tbody>\n",
        "  <tr>\n",
        "    <td class=\"tg-0pky\">1</td>\n",
        "    <td class=\"tg-0pky\">Check for two positive points</td>\n",
        "    <td class=\"tg-0pky\">5,9</td>\n",
        "    <td class=\"tg-0pky\">4</td>\n",
        "    <td class=\"tg-0pky\">4</td>\n",
        "    <td class=\"tg-0pky\">Pass</td>\n",
        "  </tr>\n",
        "  <tr>\n",
        "    <td class=\"tg-0pky\">2</td>\n",
        "    <td class=\"tg-0pky\">Check for two negative points</td>\n",
        "    <td class=\"tg-0pky\">-5,-4</td>\n",
        "    <td class=\"tg-0pky\">1</td>\n",
        "    <td class=\"tg-0pky\">1</td>\n",
        "    <td class=\"tg-0pky\">Pass</td>\n",
        "  </tr>\n",
        "  <tr>\n",
        "    <td class=\"tg-0lax\">3</td>\n",
        "    <td class=\"tg-0lax\">Check for a positive and a negative point</td>\n",
        "    <td class=\"tg-0lax\">-4, 5</td>\n",
        "    <td class=\"tg-0lax\">9</td>\n",
        "    <td class=\"tg-0lax\">9</td>\n",
        "    <td class=\"tg-0lax\">Pass</td>\n",
        "  </tr>\n",
        "  <tr>\n",
        "    <td class=\"tg-0lax\">4</td>\n",
        "    <td class=\"tg-0lax\">Check for a character</td>\n",
        "    <td class=\"tg-0lax\">x,y</td>\n",
        "    <td class=\"tg-0lax\">Error</td>\n",
        "    <td class=\"tg-0lax\">Error</td>\n",
        "    <td class=\"tg-0lax\">Pass</td>\n",
        "  </tr>\n",
        "</tbody>\n",
        "</table>"
      ],
      "metadata": {
        "id": "98MQwuPpGt3D"
      }
    },
    {
      "cell_type": "markdown",
      "source": [
        "#Q4:To find whether a number is two digit or not"
      ],
      "metadata": {
        "id": "zMV_YDcFRvpm"
      }
    },
    {
      "cell_type": "code",
      "source": [
        "a=int(input(\"Enter number: \"))\n",
        "if(a>9 and a<100):\n",
        "  print(a,\" is a two digit number\")\n",
        "elif(a<-9 and a >-100):\n",
        "  print(a,\" is a two digit number\")\n",
        "else:\n",
        "  print(a,\" is not a two digit number\")"
      ],
      "metadata": {
        "colab": {
          "base_uri": "https://localhost:8080/"
        },
        "id": "y_ohW8IpR45F",
        "outputId": "9290a851-5b6f-4f74-b29c-e5ad1396fe67"
      },
      "execution_count": null,
      "outputs": [
        {
          "output_type": "stream",
          "name": "stdout",
          "text": [
            "Enter number: 20\n",
            "20  is a two digit number\n"
          ]
        }
      ]
    },
    {
      "cell_type": "markdown",
      "source": [
        "<style type=\"text/css\">\n",
        ".tg  {border-collapse:collapse;border-spacing:0;}\n",
        ".tg td{border-color:black;border-style:solid;border-width:1px;font-family:Arial, sans-serif;font-size:14px;\n",
        "  overflow:hidden;padding:10px 5px;word-break:normal;}\n",
        ".tg th{border-color:black;border-style:solid;border-width:1px;font-family:Arial, sans-serif;font-size:14px;\n",
        "  font-weight:normal;overflow:hidden;padding:10px 5px;word-break:normal;}\n",
        ".tg .tg-0pky{border-color:inherit;text-align:left;vertical-align:top}\n",
        ".tg .tg-0lax{text-align:left;vertical-align:top}\n",
        "</style>\n",
        "<table class=\"tg\">\n",
        "<thead>\n",
        "  <tr>\n",
        "    <th class=\"tg-0pky\">Test Case No.</th>\n",
        "    <th class=\"tg-0pky\">Test Description</th>\n",
        "    <th class=\"tg-0pky\">Input</th>\n",
        "    <th class=\"tg-0pky\">Expected Output</th>\n",
        "    <th class=\"tg-0pky\">Actual Output</th>\n",
        "    <th class=\"tg-0pky\">Result</th>\n",
        "  </tr>\n",
        "</thead>\n",
        "<tbody>\n",
        "  <tr>\n",
        "    <td class=\"tg-0pky\">1</td>\n",
        "    <td class=\"tg-0pky\">Check for two digit number</td>\n",
        "    <td class=\"tg-0pky\">20</td>\n",
        "    <td class=\"tg-0pky\"> 20 is a two digit number</td>\n",
        "    <td class=\"tg-0pky\"> 20 is a two digit number</td>\n",
        "    <td class=\"tg-0pky\">Pass</td>\n",
        "  </tr>\n",
        "  <tr>\n",
        "    <td class=\"tg-0pky\">2</td>\n",
        "    <td class=\"tg-0pky\">Check for characters</td>\n",
        "    <td class=\"tg-0pky\">x</td>\n",
        "    <td class=\"tg-0pky\">Error</td>\n",
        "    <td class=\"tg-0pky\">Error</td>\n",
        "    <td class=\"tg-0pky\">Pass</td>\n",
        "  </tr>\n",
        "  <tr>\n",
        "    <td class=\"tg-0lax\">3</td>\n",
        "    <td class=\"tg-0lax\">Check for a&nbsp;&nbsp;three digit number</td>\n",
        "    <td class=\"tg-0lax\">100</td>\n",
        "    <td class=\"tg-0lax\">100 is not a two digit number</td>\n",
        "    <td class=\"tg-0lax\">100 is not a two digit number</td>\n",
        "    <td class=\"tg-0lax\">Pass</td>\n",
        "  </tr>\n",
        "  <tr>\n",
        "    <td class=\"tg-0lax\">4</td>\n",
        "    <td class=\"tg-0lax\">Check for a negative two digit number</td>\n",
        "    <td class=\"tg-0lax\">-20</td>\n",
        "    <td class=\"tg-0lax\">-20 is a two digit number</td>\n",
        "    <td class=\"tg-0lax\">-20 is a two digit number</td>\n",
        "    <td class=\"tg-0lax\">Pass</td>\n",
        "  </tr>\n",
        "  <tr>\n",
        "    <td class=\"tg-0lax\">5</td>\n",
        "    <td class=\"tg-0lax\">Check for a negative three digit number</td>\n",
        "    <td class=\"tg-0lax\">-100</td>\n",
        "    <td class=\"tg-0lax\">-100 is not a two digit number</td>\n",
        "    <td class=\"tg-0lax\">-100 is not a two digit number</td>\n",
        "    <td class=\"tg-0lax\">Pass</td>\n",
        "  </tr>\n",
        "</tbody>\n",
        "</table>"
      ],
      "metadata": {
        "id": "B91YQ_VADz_y"
      }
    },
    {
      "cell_type": "markdown",
      "source": [
        "#Q5:To check whether a number is positive,negative or zero"
      ],
      "metadata": {
        "id": "0rzr_CiSTLZn"
      }
    },
    {
      "cell_type": "code",
      "source": [
        "N=int(input(\"Enter a Number : \"))\n",
        "if N>0 : \n",
        "  print('positive')\n",
        "elif N<0 :\n",
        "  print('negative')\n",
        "else : \n",
        "  print('zero')\n"
      ],
      "metadata": {
        "colab": {
          "base_uri": "https://localhost:8080/"
        },
        "id": "6rxIDRvI0sRa",
        "outputId": "76276d76-de3f-4a33-fde7-76a884d2800b"
      },
      "execution_count": null,
      "outputs": [
        {
          "output_type": "stream",
          "name": "stdout",
          "text": [
            "Enter a Number : -4\n",
            "negative\n"
          ]
        }
      ]
    },
    {
      "cell_type": "markdown",
      "source": [
        "<style type=\"text/css\">\n",
        ".tg  {border-collapse:collapse;border-spacing:0;}\n",
        ".tg td{border-color:black;border-style:solid;border-width:1px;font-family:Arial, sans-serif;font-size:14px;\n",
        "  overflow:hidden;padding:10px 5px;word-break:normal;}\n",
        ".tg th{border-color:black;border-style:solid;border-width:1px;font-family:Arial, sans-serif;font-size:14px;\n",
        "  font-weight:normal;overflow:hidden;padding:10px 5px;word-break:normal;}\n",
        ".tg .tg-0pky{border-color:inherit;text-align:left;vertical-align:top}\n",
        ".tg .tg-0lax{text-align:left;vertical-align:top}\n",
        "</style>\n",
        "<table class=\"tg\">\n",
        "<thead>\n",
        "  <tr>\n",
        "    <th class=\"tg-0pky\">Test Case No.</th>\n",
        "    <th class=\"tg-0pky\">Test Description</th>\n",
        "    <th class=\"tg-0pky\">Input</th>\n",
        "    <th class=\"tg-0pky\">Expected Output</th>\n",
        "    <th class=\"tg-0pky\">Actual Output</th>\n",
        "    <th class=\"tg-0pky\">Result</th>\n",
        "  </tr>\n",
        "</thead>\n",
        "<tbody>\n",
        "  <tr>\n",
        "    <td class=\"tg-0pky\">1</td>\n",
        "    <td class=\"tg-0pky\">Check for a positive number</td>\n",
        "    <td class=\"tg-0pky\">20</td>\n",
        "    <td class=\"tg-0pky\">positive</td>\n",
        "    <td class=\"tg-0pky\"> positive</td>\n",
        "    <td class=\"tg-0pky\">Pass</td>\n",
        "  </tr>\n",
        "  <tr>\n",
        "    <td class=\"tg-0pky\">2</td>\n",
        "    <td class=\"tg-0pky\">Check for zero</td>\n",
        "    <td class=\"tg-0pky\">0</td>\n",
        "    <td class=\"tg-0pky\">zero</td>\n",
        "    <td class=\"tg-0pky\">zero</td>\n",
        "    <td class=\"tg-0pky\">Pass</td>\n",
        "  </tr>\n",
        "  <tr>\n",
        "    <td class=\"tg-0lax\">3</td>\n",
        "    <td class=\"tg-0lax\">Check for a  negative number</td>\n",
        "    <td class=\"tg-0lax\">-4</td>\n",
        "    <td class=\"tg-0lax\">negative</td>\n",
        "    <td class=\"tg-0lax\">negative</td>\n",
        "    <td class=\"tg-0lax\">Pass</td>\n",
        "  </tr>\n",
        "  <tr>\n",
        "    <td class=\"tg-0lax\">4</td>\n",
        "    <td class=\"tg-0lax\">Check for a character</td>\n",
        "    <td class=\"tg-0lax\">x</td>\n",
        "    <td class=\"tg-0lax\">Error</td>\n",
        "    <td class=\"tg-0lax\">Error</td>\n",
        "    <td class=\"tg-0lax\">Pass</td>\n",
        "  </tr>\n",
        "</tbody>\n",
        "</table>"
      ],
      "metadata": {
        "id": "0DVOSIpYFaIx"
      }
    },
    {
      "cell_type": "markdown",
      "source": [
        "#Q6:To check whether a number is multiple of another"
      ],
      "metadata": {
        "id": "-IrMnfXhTqwH"
      }
    },
    {
      "cell_type": "code",
      "source": [
        "a=int(input(\"Enter first number: \"))\n",
        "b=int(input(\"Enter second number: \"))\n",
        "if(a%b==0):\n",
        "  print(b,\" is a multiple of \" , a)\n",
        "elif(b%a==0):\n",
        "  print(a,\" is a multiple of \" , b) \n",
        "else:\n",
        "  print(\"Not a multiple\")\n"
      ],
      "metadata": {
        "colab": {
          "base_uri": "https://localhost:8080/"
        },
        "id": "QdqPhronT3-q",
        "outputId": "eb266294-2889-4c56-92c5-4300a619b1e0"
      },
      "execution_count": 11,
      "outputs": [
        {
          "output_type": "stream",
          "name": "stdout",
          "text": [
            "Enter first number: -5\n",
            "Enter second number: 10\n",
            "-5  is a multiple of  10\n"
          ]
        }
      ]
    },
    {
      "cell_type": "markdown",
      "source": [
        "<style type=\"text/css\">\n",
        ".tg  {border-collapse:collapse;border-spacing:0;}\n",
        ".tg td{border-color:black;border-style:solid;border-width:1px;font-family:Arial, sans-serif;font-size:14px;\n",
        "  overflow:hidden;padding:10px 5px;word-break:normal;}\n",
        ".tg th{border-color:black;border-style:solid;border-width:1px;font-family:Arial, sans-serif;font-size:14px;\n",
        "  font-weight:normal;overflow:hidden;padding:10px 5px;word-break:normal;}\n",
        ".tg .tg-0pky{border-color:inherit;text-align:left;vertical-align:top}\n",
        ".tg .tg-0lax{text-align:left;vertical-align:top}\n",
        "</style>\n",
        "<table class=\"tg\">\n",
        "<thead>\n",
        "  <tr>\n",
        "    <th class=\"tg-0pky\">Test Case No.</th>\n",
        "    <th class=\"tg-0pky\">Test Description</th>\n",
        "    <th class=\"tg-0pky\">Input</th>\n",
        "    <th class=\"tg-0pky\">Expected Output</th>\n",
        "    <th class=\"tg-0pky\">Actual Output</th>\n",
        "    <th class=\"tg-0pky\">Result</th>\n",
        "  </tr>\n",
        "</thead>\n",
        "<tbody>\n",
        "  <tr>\n",
        "    <td class=\"tg-0pky\">1</td>\n",
        "    <td class=\"tg-0pky\">Check for two positive positive numbers</td>\n",
        "    <td class=\"tg-0pky\">5,10</td>\n",
        "    <td class=\"tg-0pky\">5 is a multiple of 10</td>\n",
        "    <td class=\"tg-0pky\">5 is a multiple of 10</td>\n",
        "    <td class=\"tg-0pky\">Pass</td>\n",
        "  </tr>\n",
        "  <tr>\n",
        "    <td class=\"tg-0pky\">2</td>\n",
        "    <td class=\"tg-0pky\">Check for two negative numbers</td>\n",
        "    <td class=\"tg-0pky\">-5,-23</td>\n",
        "    <td class=\"tg-0pky\">Not a multiple</td>\n",
        "    <td class=\"tg-0pky\">Not a multiple</td>\n",
        "    <td class=\"tg-0pky\">Pass</td>\n",
        "  </tr>\n",
        "  <tr>\n",
        "    <td class=\"tg-0lax\">3</td>\n",
        "    <td class=\"tg-0lax\">Check for two positive and one negative</td>\n",
        "    <td class=\"tg-0lax\">-5,10</td>\n",
        "    <td class=\"tg-0lax\">-5 is a multiple of 10</td>\n",
        "    <td class=\"tg-0lax\">-5 is a multiple of 10</td>\n",
        "    <td class=\"tg-0lax\">Pass</td>\n",
        "  </tr>\n",
        "  <tr>\n",
        "    <td class=\"tg-0lax\">4</td>\n",
        "    <td class=\"tg-0lax\">Check for a character</td>\n",
        "    <td class=\"tg-0lax\">6,x</td>\n",
        "    <td class=\"tg-0lax\">Error</td>\n",
        "    <td class=\"tg-0lax\">Error</td>\n",
        "    <td class=\"tg-0lax\">Pass</td>\n",
        "  </tr>\n",
        "</tbody>\n",
        "</table>"
      ],
      "metadata": {
        "id": "kRISNZR6IxVL"
      }
    },
    {
      "cell_type": "markdown",
      "source": [
        "#Q7:To find the smallest digit in a two digit number"
      ],
      "metadata": {
        "id": "-ecHeB7LVdSJ"
      }
    },
    {
      "cell_type": "code",
      "source": [
        "a=int(input(\"Enter a two digit number: \"))\n",
        "if(a<0):\n",
        "  a=-a\n",
        "else:\n",
        "  a=a\n",
        "\n",
        "if(a>9 and a <100):\n",
        "   b=a//10\n",
        "   c=a%10\n",
        "   if(b>c):\n",
        "     print(c,\" is smallest\")\n",
        "   else:\n",
        "      print(b,\" is smallest\")\n",
        "else:\n",
        "  print(\"Not a two digit number\")"
      ],
      "metadata": {
        "colab": {
          "base_uri": "https://localhost:8080/"
        },
        "id": "KPMll_bhVnv3",
        "outputId": "7e5f6732-db1b-4a7c-a800-1a427d872052"
      },
      "execution_count": 18,
      "outputs": [
        {
          "output_type": "stream",
          "name": "stdout",
          "text": [
            "Enter a two digit number: 23\n",
            "2  is smallest\n"
          ]
        }
      ]
    },
    {
      "cell_type": "markdown",
      "source": [
        "<style type=\"text/css\">\n",
        ".tg  {border-collapse:collapse;border-spacing:0;}\n",
        ".tg td{border-color:black;border-style:solid;border-width:1px;font-family:Arial, sans-serif;font-size:14px;\n",
        "  overflow:hidden;padding:10px 5px;word-break:normal;}\n",
        ".tg th{border-color:black;border-style:solid;border-width:1px;font-family:Arial, sans-serif;font-size:14px;\n",
        "  font-weight:normal;overflow:hidden;padding:10px 5px;word-break:normal;}\n",
        ".tg .tg-0pky{border-color:inherit;text-align:left;vertical-align:top}\n",
        ".tg .tg-0lax{text-align:left;vertical-align:top}\n",
        "</style>\n",
        "<table class=\"tg\">\n",
        "<thead>\n",
        "  <tr>\n",
        "    <th class=\"tg-0pky\">Test Case No.</th>\n",
        "    <th class=\"tg-0pky\">Test Description</th>\n",
        "    <th class=\"tg-0pky\">Input</th>\n",
        "    <th class=\"tg-0pky\">Expected Output</th>\n",
        "    <th class=\"tg-0pky\">Actual Output</th>\n",
        "    <th class=\"tg-0pky\">Result</th>\n",
        "  </tr>\n",
        "</thead>\n",
        "<tbody>\n",
        "  <tr>\n",
        "    <td class=\"tg-0pky\">1</td>\n",
        "    <td class=\"tg-0pky\">Check for a positive two digit number</td>\n",
        "    <td class=\"tg-0pky\">23</td>\n",
        "    <td class=\"tg-0pky\">2 is smallest</td>\n",
        "    <td class=\"tg-0pky\">2 is smallest</td>\n",
        "    <td class=\"tg-0pky\">Pass</td>\n",
        "  </tr>\n",
        "  <tr>\n",
        "    <td class=\"tg-0pky\">2</td>\n",
        "    <td class=\"tg-0pky\">Check for a two negative two digit number</td>\n",
        "    <td class=\"tg-0pky\">-15</td>\n",
        "    <td class=\"tg-0pky\">1 is smallest</td>\n",
        "    <td class=\"tg-0pky\">1 is smallest</td>\n",
        "    <td class=\"tg-0pky\">Pass</td>\n",
        "  </tr>\n",
        "  <tr>\n",
        "    <td class=\"tg-0lax\">3</td>\n",
        "    <td class=\"tg-0lax\">Check for a number not two digit</td>\n",
        "    <td class=\"tg-0lax\">9</td>\n",
        "    <td class=\"tg-0lax\">Not a two digit number</td>\n",
        "    <td class=\"tg-0lax\">Not a two digit number</td>\n",
        "    <td class=\"tg-0lax\">Pass</td>\n",
        "  </tr>\n",
        "  <tr>\n",
        "    <td class=\"tg-0lax\">4</td>\n",
        "    <td class=\"tg-0lax\">Check for a character</td>\n",
        "    <td class=\"tg-0lax\">x</td>\n",
        "    <td class=\"tg-0lax\">Error</td>\n",
        "    <td class=\"tg-0lax\">Error</td>\n",
        "    <td class=\"tg-0lax\">Pass</td>\n",
        "  </tr>\n",
        "</tbody>\n",
        "</table>"
      ],
      "metadata": {
        "id": "YeqXOe22LXRw"
      }
    },
    {
      "cell_type": "markdown",
      "source": [
        ""
      ],
      "metadata": {
        "id": "BJpGijlaJyI9"
      }
    },
    {
      "cell_type": "markdown",
      "source": [
        "#Q8:To find the nature of solution of a quadratic equation"
      ],
      "metadata": {
        "id": "32UWWbh2XIKG"
      }
    },
    {
      "cell_type": "code",
      "source": [
        "a=int(input(\"Enter coefficiant of x^2: \"))\n",
        "b=int(input(\"Enter coefficiant of x: \"))\n",
        "c=int(input(\"Enter constant: \"))\n",
        "D=b*b-4*a*c\n",
        "if(D>0):\n",
        " print(\"Equation has two distinct real roots\")\n",
        "elif(D<0):\n",
        "  print(\"Equation has no real roots\")\n",
        "else:\n",
        "  print(\"Equation has two equal real roots\")\n"
      ],
      "metadata": {
        "colab": {
          "base_uri": "https://localhost:8080/"
        },
        "id": "6JZfyeLRXP1j",
        "outputId": "645d9f4b-a3e6-4558-b5c6-ecb99d9d9a6c"
      },
      "execution_count": 22,
      "outputs": [
        {
          "output_type": "stream",
          "name": "stdout",
          "text": [
            "Enter coefficiant of x^2: 2\n",
            "Enter coefficiant of x: 5\n",
            "Enter constant: 5\n",
            "Equation has no real roots\n"
          ]
        }
      ]
    },
    {
      "cell_type": "markdown",
      "source": [
        "<style type=\"text/css\">\n",
        ".tg  {border-collapse:collapse;border-spacing:0;}\n",
        ".tg td{border-color:black;border-style:solid;border-width:1px;font-family:Arial, sans-serif;font-size:14px;\n",
        "  overflow:hidden;padding:10px 5px;word-break:normal;}\n",
        ".tg th{border-color:black;border-style:solid;border-width:1px;font-family:Arial, sans-serif;font-size:14px;\n",
        "  font-weight:normal;overflow:hidden;padding:10px 5px;word-break:normal;}\n",
        ".tg .tg-0pky{border-color:inherit;text-align:left;vertical-align:top}\n",
        "</style>\n",
        "<table class=\"tg\">\n",
        "<thead>\n",
        "  <tr>\n",
        "    <th class=\"tg-0pky\">Test Case No.</th>\n",
        "    <th class=\"tg-0pky\">Test Description</th>\n",
        "    <th class=\"tg-0pky\">Input</th>\n",
        "    <th class=\"tg-0pky\">Expected Output</th>\n",
        "    <th class=\"tg-0pky\">Actual Output</th>\n",
        "    <th class=\"tg-0pky\">Result</th>\n",
        "  </tr>\n",
        "</thead>\n",
        "<tbody>\n",
        "  <tr>\n",
        "    <td class=\"tg-0pky\">1</td>\n",
        "    <td class=\"tg-0pky\">Check for equation with two distinct real roots</td>\n",
        "    <td class=\"tg-0pky\">1,-11,-10</td>\n",
        "    <td class=\"tg-0pky\">Equation has two distinct real roots</td>\n",
        "    <td class=\"tg-0pky\">Equation has two distinct real roots</td>\n",
        "    <td class=\"tg-0pky\">Pass</td>\n",
        "  </tr>\n",
        "  <tr>\n",
        "    <td class=\"tg-0pky\">2</td>\n",
        "    <td class=\"tg-0pky\">Check for equation with two equal real roots<br></td>\n",
        "    <td class=\"tg-0pky\">4,-28,49</td>\n",
        "    <td class=\"tg-0pky\">Equation has two equal real roots</td>\n",
        "    <td class=\"tg-0pky\">Equation has two equal real roots</td>\n",
        "    <td class=\"tg-0pky\">Pass</td>\n",
        "  </tr>\n",
        "  <tr>\n",
        "    <td class=\"tg-0pky\">3</td>\n",
        "    <td class=\"tg-0pky\">Check for equation with no real roots<br></td>\n",
        "    <td class=\"tg-0pky\">2,5,5</td>\n",
        "    <td class=\"tg-0pky\">Equation has no real roots</td>\n",
        "    <td class=\"tg-0pky\">Equation has no real roots</td>\n",
        "    <td class=\"tg-0pky\">Pass</td>\n",
        "  </tr>\n",
        "  <tr>\n",
        "    <td class=\"tg-0pky\">4</td>\n",
        "    <td class=\"tg-0pky\">Check for a character</td>\n",
        "    <td class=\"tg-0pky\">1,x,y</td>\n",
        "    <td class=\"tg-0pky\">Error</td>\n",
        "    <td class=\"tg-0pky\">Error</td>\n",
        "    <td class=\"tg-0pky\">Pass</td>\n",
        "  </tr>\n",
        "</tbody>\n",
        "</table>"
      ],
      "metadata": {
        "id": "7kJlkhdQLZ0s"
      }
    }
  ]
}